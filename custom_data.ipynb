{
 "cells": [
  {
   "cell_type": "code",
   "execution_count": null,
   "id": "34078130-f07c-4e40-b709-615cc968cd56",
   "metadata": {},
   "outputs": [],
   "source": [
    "# =============================================================================\n",
    "#  Imports\n",
    "# =============================================================================\n",
    "\n",
    "import os\n",
    "import torch\n",
    "import numpy as np\n",
    "import matplotlib.pyplot as plt\n",
    "from tqdm import tqdm\n",
    "\n",
    "import matplotlib.pyplot as plt\n",
    "import plotly.graph_objects as go\n",
    "import plotly.io as pio\n",
    "pio.renderers.default = 'iframe'\n",
    "\n",
    "from gs2mesh_utils.argument_utils import ArgParser\n",
    "from gs2mesh_utils.colmap_utils import extract_frames, create_downsampled_colmap_dir, run_colmap, visualize_colmap_poses\n",
    "from gs2mesh_utils.eval_utils import create_strings\n",
    "from gs2mesh_utils.renderer_utils import Renderer\n",
    "from gs2mesh_utils.stereo_utils import Stereo\n",
    "from gs2mesh_utils.tsdf_utils import TSDF\n",
    "from gs2mesh_utils.masker_utils import init_predictor, Masker\n",
    "\n",
    "%load_ext autoreload\n",
    "%autoreload 2\n",
    "\n",
    "device = 'cuda' if torch.cuda.is_available() else 'cpu'\n",
    "base_dir = os.path.abspath(os.getcwd())"
   ]
  },
  {
   "cell_type": "markdown",
   "id": "1d0498e8-b3f7-431d-b7f3-7e5db4c6cd96",
   "metadata": {},
   "source": [
    "**Parameters:** (edit only here)"
   ]
  },
  {
   "cell_type": "code",
   "execution_count": null,
   "id": "9faa2061-eb8d-449b-b938-d4c2c9b5bb2c",
   "metadata": {},
   "outputs": [],
   "source": [
    "# =============================================================================\n",
    "#  Initialize argument parser - DO NOT EDIT!\n",
    "# =============================================================================\n",
    "# Create argument parser with default arguments\n",
    "args = ArgParser('custom')\n",
    "\n",
    "# =============================================================================\n",
    "#  Parameters - EDIT ONLY HERE!\n",
    "# =============================================================================\n",
    "\n",
    "# General params\n",
    "args.colmap_name = 'sculpture' # Name of the directory with the COLMAP sparse model\n",
    "args.dataset_name = 'custom' # Name of the dataset\n",
    "args.experiment_folder_name = None # Name of the experiment folder\n",
    "\n",
    "# Preprocessing params\n",
    "args.downsample = 1 # Downsampling factor\n",
    "\n",
    "# Gaussian Splatting parameters\n",
    "args.GS_iterations = 30000  # Number of Gaussian Splatting iterations\n",
    "args.GS_save_test_iterations = [7000, 30000]  # Gaussian Splatting test iterations to save\n",
    "args.GS_white_background = False  # Use white background in Gaussian Splatting\n",
    "\n",
    "# Renderer parameters\n",
    "args.renderer_baseline_absolute = None  # Absolute value of the renderer baseline (None uses 7 percent of scene radius)\n",
    "args.renderer_baseline_percentage = 7.0  # Percentage value of the renderer baseline\n",
    "args.renderer_folder_name = None  # Name of the renderer folder (None uses the colmap name)\n",
    "args.renderer_save_json = True  # Save renderer data to JSON\n",
    "args.renderer_sort_cameras = False  # Sort cameras in the renderer (True if using unordered set of views)\n",
    "\n",
    "# Stereo parameters\n",
    "args.stereo_model = 'DLNR_Middlebury'  # Stereo model to use\n",
    "args.stereo_occlusion_threshold = 3  # Occlusion threshold for stereo model (Lower value masks out more areas)\n",
    "args.stereo_warm = True  # Use the previous disparity as initial disparity for current view (False if views are not sorted)\n",
    "\n",
    "# TSDF parameters\n",
    "args.TSDF_scale = 1.0  # Fix depth scale\n",
    "args.TSDF_dilate = 1  # Take every n-th image (1 to take all images)\n",
    "args.TSDF_valid = None  # Choose valid images as a list of indices (None to ignore)\n",
    "args.TSDF_skip = None  # Choose non-valid images as a list of indices (None to ignore)\n",
    "args.TSDF_use_occlusion_mask = True  # Ignore occluded regions in stereo pairs for better geometric consistency\n",
    "args.TSDF_use_mask = False  # Use object masks (optional)\n",
    "args.TSDF_invert_mask = False  # Invert the background mask for TSDF. Only if TSDF_use_mask is True\n",
    "args.TSDF_erode_mask = True  # Erode masks in TSDF. Only if TSDF_use_mask is True\n",
    "args.TSDF_erosion_kernel_size = 10  # Erosion kernel size in TSDF.  Only if TSDF_use_mask is True\n",
    "args.TSDF_closing_kernel_size = 10  # Closing kernel size in TSDF.  Only if TSDF_use_mask is True.\n",
    "args.TSDF_voxel = 2  # Voxel size (voxel length is TSDF_voxel/512)\n",
    "args.TSDF_sdf_trunc = 0.04  # SDF truncation in TSDF\n",
    "args.TSDF_min_depth_baselines = 4  # Minimum depth baselines in TSDF\n",
    "args.TSDF_max_depth_baselines = 20  # Maximum depth baselines in TSDF\n",
    "args.TSDF_cleaning_threshold = 100000  # Minimal cluster size for clean mesh\n",
    "\n",
    "# Running parameters\n",
    "args.video_extension = 'mp4'  # Video file extension\n",
    "args.video_interval = 10  # Extract every n-th frame - aim for 3fps\n",
    "args.GS_port = 8080  # GS port number (relevant if running several instances at the same time)\n",
    "args.skip_video_extraction = False  # Skip the video extraction stage\n",
    "args.skip_colmap = False  # Skip the COLMAP stage\n",
    "args.skip_GS = False  # Skip the GS stage\n",
    "args.skip_rendering = False  # Skip the rendering stage\n",
    "args.skip_masking = False  # Skip the masking stage\n",
    "args.skip_TSDF = False  # Skip the TSDF stage\n",
    "\n",
    "# =============================================================================\n",
    "#  DO NOT EDIT THESE LINES:\n",
    "# =============================================================================\n",
    "TSDF_voxel_length=args.TSDF_voxel/512\n",
    "colmap_dir = os.path.abspath(os.path.join(base_dir,'data', args.dataset_name, args.colmap_name))\n",
    "strings = create_strings(args)"
   ]
  },
  {
   "cell_type": "markdown",
   "id": "cb33c59b-9e39-44eb-8202-fbdceaf12f03",
   "metadata": {},
   "source": [
    "**Extract frames if needed and Run COLMAP:** (only run if you don't have a COLMAP dataset. If you do, copy the colmap dataset to the \"data\" folder in the main root and update \"colmap_output_dir\")"
   ]
  },
  {
   "cell_type": "code",
   "execution_count": null,
   "id": "f6e69b5f-ba4b-4b2d-996b-5b27f86aaa90",
   "metadata": {},
   "outputs": [],
   "source": [
    "# =============================================================================\n",
    "#  Extract frames from a video\n",
    "# =============================================================================\n",
    "\n",
    "if not args.skip_video_extraction:\n",
    "    video_name = f'{args.colmap_name}.{args.video_extension}'\n",
    "    extract_frames(os.path.join(colmap_dir, video_name), os.path.join(colmap_dir, 'images') , interval=args.video_interval)"
   ]
  },
  {
   "cell_type": "code",
   "execution_count": null,
   "id": "9a772da7-8a7d-4874-a55f-b146c7bd0c09",
   "metadata": {},
   "outputs": [],
   "source": [
    "# =============================================================================\n",
    "#  Create downsampled COLMAP directory\n",
    "# =============================================================================\n",
    "\n",
    "if args.downsample > 1:\n",
    "    create_downsampled_colmap_dir(colmap_dir, args.downsample)\n",
    "    args.colmap_name = f\"{args.colmap_name}_downsample{args.downsample}\"\n",
    "    TSDF_voxel_length=args.TSDF_voxel/512\n",
    "    colmap_dir = os.path.abspath(os.path.join(base_dir,'data', args.dataset_name, args.colmap_name))\n",
    "    strings = create_strings(args)"
   ]
  },
  {
   "cell_type": "code",
   "execution_count": null,
   "id": "6437ef05-d066-4dab-95ea-e8f247055552",
   "metadata": {
    "scrolled": true
   },
   "outputs": [],
   "source": [
    "# =============================================================================\n",
    "#  Run COLMAP with unknown poses\n",
    "# =============================================================================\n",
    "\n",
    "if not args.skip_colmap:\n",
    "    run_colmap(colmap_dir, use_gpu=True) # If there's an error regarding SiftGPU not being supported, set use_gpu to False"
   ]
  },
  {
   "cell_type": "code",
   "execution_count": null,
   "id": "381bc958-bb4f-4961-8fe6-c82f79c270e5",
   "metadata": {},
   "outputs": [],
   "source": [
    "# =============================================================================\n",
    "#  Visualize the sparse COLMAP output and the COLMAP poses.\n",
    "# =============================================================================\n",
    "GT_path = None # OPTIONAL: compare to a GT point cloud if it is aligned with the COLMAP sparse point cloud\n",
    "visualize_colmap_poses(colmap_dir, depth_scale=10, subsample=100, visualize_points=True, GT_path=None) # if you don't see the cameras, adjust the depth scale. If you don't see the points, adjust the subsample"
   ]
  },
  {
   "cell_type": "markdown",
   "id": "d446679e-ae19-48d9-946f-923a052b4cdb",
   "metadata": {},
   "source": [
    "**Run Gaussian Splatting:**"
   ]
  },
  {
   "cell_type": "code",
   "execution_count": null,
   "id": "3651f6c7-299f-4025-b76f-11606243da24",
   "metadata": {},
   "outputs": [],
   "source": [
    "# =============================================================================\n",
    "#  Run Gaussian Splatting\n",
    "# =============================================================================\n",
    "\n",
    "if not args.skip_GS:\n",
    "    try:\n",
    "        os.chdir(os.path.join(base_dir, 'third_party', 'gaussian-splatting'))\n",
    "        iterations_str = ' '.join([str(iteration) for iteration in args.GS_save_test_iterations])\n",
    "        os.system(f\"python train.py -s {colmap_dir} --port {args.GS_port} --model_path {os.path.join(base_dir, 'splatting_output', strings['splatting'], args.colmap_name)} --iterations {args.GS_iterations} --test_iterations {iterations_str} --save_iterations {iterations_str}{' --white_background' if args.GS_white_background else ''}\")\n",
    "        os.chdir(base_dir)\n",
    "    except:\n",
    "        os.chdir(base_dir)\n",
    "        print(\"ERROR\")"
   ]
  },
  {
   "cell_type": "markdown",
   "id": "a0e97686-2c73-4301-8043-066aa0e5dfdc",
   "metadata": {},
   "source": [
    "**Prepare GS renderer for rendering stereo views:**"
   ]
  },
  {
   "cell_type": "code",
   "execution_count": null,
   "id": "eade67e5-fa33-482b-a722-8444c291a592",
   "metadata": {},
   "outputs": [],
   "source": [
    "# =============================================================================\n",
    "#  Initialize renderer\n",
    "# =============================================================================\n",
    "\n",
    "renderer = Renderer(base_dir, \n",
    "                colmap_dir,\n",
    "                strings['output_dir_root'],\n",
    "                args.colmap_name, \n",
    "                dataset = strings['dataset'], \n",
    "                splatting = strings['splatting'],\n",
    "                experiment_name = strings['experiment_name'],\n",
    "                splatting_iteration = args.GS_iterations, \n",
    "                white_background = args.GS_white_background, \n",
    "                baseline_absolute = args.renderer_baseline_absolute, \n",
    "                baseline_percentage = float(args.renderer_baseline_percentage) * (2 if args.dataset_name==\"DTU\" else 1), \n",
    "                folder_name = args.renderer_folder_name,\n",
    "                save_json = args.renderer_save_json,\n",
    "                sort_cameras = args.renderer_sort_cameras,\n",
    "                device=device)"
   ]
  },
  {
   "cell_type": "code",
   "execution_count": null,
   "id": "aed7fa6c-b076-4bab-99b6-8fb5357d89a0",
   "metadata": {},
   "outputs": [],
   "source": [
    "# =============================================================================\n",
    "#  Visualize GS point cloud with COLMAP poses\n",
    "# =============================================================================\n",
    "renderer.visualize_poses(depth_scale=10, subsample=100)"
   ]
  },
  {
   "cell_type": "code",
   "execution_count": null,
   "id": "df52e455-93ec-492b-a909-fd12cc40b1ae",
   "metadata": {},
   "outputs": [],
   "source": [
    "# =============================================================================\n",
    "#  Prepare renderer\n",
    "# =============================================================================\n",
    "# ONLY NEED TO RUN ONCE PER SCENE!! Initializes renderer, takes some time\n",
    "if not args.skip_rendering:\n",
    "    renderer.prepare_renderer()"
   ]
  },
  {
   "cell_type": "markdown",
   "id": "d3f8f924-f19c-4930-b698-df76f1fe07f9",
   "metadata": {},
   "source": [
    "**Run Rendering + Stereo Model:**"
   ]
  },
  {
   "cell_type": "code",
   "execution_count": null,
   "id": "2d76d02e-8f99-4efa-ba3b-23d35488bfe2",
   "metadata": {},
   "outputs": [],
   "source": [
    "# =============================================================================\n",
    "#  Initialize stereo\n",
    "# =============================================================================\n",
    "\n",
    "stereo = Stereo(base_dir, renderer, model_name=args.stereo_model, device=device)"
   ]
  },
  {
   "cell_type": "code",
   "execution_count": null,
   "id": "2adad24c-bdf6-4fa7-880f-181b3f27973c",
   "metadata": {
    "tags": []
   },
   "outputs": [],
   "source": [
    "# =============================================================================\n",
    "#  Run stereo\n",
    "# =============================================================================\n",
    "%matplotlib inline\n",
    "#shading_eps relevant for visualization purposes. Change according to depth scale.\n",
    "if not args.skip_rendering:\n",
    "    stereo.run(shading_eps=1e-4, occlusion_threshold=args.stereo_occlusion_threshold, start=0, warm=args.stereo_warm, visualize=False)"
   ]
  },
  {
   "cell_type": "markdown",
   "id": "5af2dce6-93fe-4f2e-b6ea-35e642adc60c",
   "metadata": {},
   "source": [
    "**Run SAM2 Masker (OPTIONAL):**"
   ]
  },
  {
   "cell_type": "code",
   "execution_count": null,
   "id": "b5f4f347-1389-4753-b7e9-f4c4e01b871a",
   "metadata": {
    "tags": []
   },
   "outputs": [],
   "source": [
    "# =============================================================================\n",
    "#  Initialize SAM2 predictor\n",
    "# =============================================================================\n",
    "# ONLY NEED TO RUN ONCE PER SCENE!! Initializes SAM2 predictor, takes some time\n",
    "# Change use_local to True if you prefer using local weights of SAM2 instead of huggingface weights.\n",
    "if not args.skip_masking:\n",
    "    predictor, inference_state, images_dir = init_predictor(base_dir, renderer, use_local=False, device=device) "
   ]
  },
  {
   "cell_type": "code",
   "execution_count": null,
   "id": "479de6c1-4e66-4ea9-834d-ca631863104b",
   "metadata": {
    "tags": []
   },
   "outputs": [],
   "source": [
    "# =============================================================================\n",
    "#  Find seed points for mask in reference image\n",
    "# =============================================================================\n",
    "# Run this cell at the beginning, and then run the next cell for automatic masking using SAM2.\n",
    "# Left click: add positive point; Right click: add negative point; Left click + drag: add positive bounding box; Middle click - remove point/box (closest to click)\n",
    "# IMPORTANT: bounding box only works when dragging from top left to bottom right!\n",
    "# Zoom out for better handling if the image doesn't fit the screen.\n",
    "%matplotlib widget\n",
    "if not args.skip_masking:\n",
    "    reference_image_num = 0\n",
    "    masker = Masker(predictor, inference_state, images_dir, renderer, stereo, image_number=reference_image_num)"
   ]
  },
  {
   "cell_type": "code",
   "execution_count": null,
   "id": "278fd7b4-903f-4bdc-8f6d-e2c3d9ec26c7",
   "metadata": {},
   "outputs": [],
   "source": [
    "# =============================================================================\n",
    "#  Perform automatic masking using SAM2\n",
    "# =============================================================================\n",
    "%matplotlib inline\n",
    "if not args.skip_masking:\n",
    "    masker.segment()\n",
    "    args.TSDF_use_mask = True"
   ]
  },
  {
   "cell_type": "markdown",
   "id": "3169314c-1671-44ce-be32-88ac0b515187",
   "metadata": {},
   "source": [
    "**View Results:**"
   ]
  },
  {
   "cell_type": "code",
   "execution_count": null,
   "id": "96978422-7b58-4f9a-9b99-77001acd35fe",
   "metadata": {
    "scrolled": true,
    "tags": []
   },
   "outputs": [],
   "source": [
    "# ====================================================================================================\n",
    "#  View left-right renders, segmentation mask, disparity, occlusion mask and shading (depth gradient)\n",
    "# ====================================================================================================\n",
    "%matplotlib inline\n",
    "stereo.view_results()"
   ]
  },
  {
   "cell_type": "markdown",
   "id": "b481f3ad-8eae-4214-ad2f-0986c8f459bf",
   "metadata": {},
   "source": [
    "**TSDF**"
   ]
  },
  {
   "cell_type": "code",
   "execution_count": null,
   "id": "4b21f22f-d2e8-41b9-a57f-ca981af6e56f",
   "metadata": {},
   "outputs": [],
   "source": [
    "# =============================================================================\n",
    "#  Initialize TSDF\n",
    "# =============================================================================\n",
    "\n",
    "tsdf = TSDF(renderer, stereo, strings['TSDF'])"
   ]
  },
  {
   "cell_type": "code",
   "execution_count": null,
   "id": "5a7d5a9b-1964-445a-be13-744b1047937d",
   "metadata": {
    "tags": []
   },
   "outputs": [],
   "source": [
    "# ================================================================================\n",
    "#  Run TSDF. the TSDF class will have an attribute \"mesh\" with the resulting mesh\n",
    "# ================================================================================\n",
    "%matplotlib inline\n",
    "if not args.skip_TSDF:\n",
    "    tsdf.run(scale = args.TSDF_scale,\n",
    "             dilate = args.TSDF_dilate,\n",
    "             valid = args.TSDF_valid if args.TSDF_valid is not None else list(range(len(renderer))),\n",
    "             skip = args.TSDF_skip if args.TSDF_skip is not None else [],\n",
    "             use_occlusion_mask = args.TSDF_use_occlusion_mask, \n",
    "             use_mask = args.TSDF_use_mask, \n",
    "             invert_mask = args.TSDF_invert_mask,\n",
    "             erode_mask = args.TSDF_erode_mask, \n",
    "             erosion_kernel_size = args.TSDF_erosion_kernel_size, \n",
    "             closing_kernel_size = args.TSDF_closing_kernel_size, \n",
    "             voxel_length = TSDF_voxel_length, \n",
    "             sdf_trunc = args.TSDF_sdf_trunc, \n",
    "             min_depth_baselines = args.TSDF_min_depth_baselines,\n",
    "             max_depth_baselines = args.TSDF_max_depth_baselines, \n",
    "             visualize=False)"
   ]
  },
  {
   "cell_type": "code",
   "execution_count": null,
   "id": "94082e81-f79e-446a-8ab5-8f12c60570f2",
   "metadata": {
    "tags": []
   },
   "outputs": [],
   "source": [
    "# =============================================================================\n",
    "#  Save the original mesh before cleaning\n",
    "# =============================================================================\n",
    "\n",
    "tsdf.save_mesh()"
   ]
  },
  {
   "cell_type": "code",
   "execution_count": null,
   "id": "1b68417a-a1f5-43ea-909a-bd2b9a4f3fc6",
   "metadata": {},
   "outputs": [],
   "source": [
    "# =============================================================================\n",
    "#  Clean the mesh using clustering and save the cleaned mesh.\n",
    "# =============================================================================\n",
    "\n",
    "# original mesh is still available under tsdf.mesh (the cleaned is tsdf.clean_mesh)\n",
    "tsdf.clean_mesh(thres=args.TSDF_cleaning_threshold/args.TSDF_scale)"
   ]
  },
  {
   "cell_type": "code",
   "execution_count": null,
   "id": "b6a07aaa-7d64-4ea6-bc3b-26ccf537f075",
   "metadata": {},
   "outputs": [],
   "source": [
    "# =============================================================================\n",
    "#  Show clean mesh\n",
    "# =============================================================================\n",
    "GT_path = None # OPTIONAL: compare to a GT point cloud if it is aligned with the COLMAP sparse point cloud\n",
    "tsdf.visualize_mesh(subsample=100, GT_path=GT_path, show_clean=True)"
   ]
  },
  {
   "cell_type": "code",
   "execution_count": null,
   "id": "3359af69-14cc-4ece-8418-ca4b74d9fcdf",
   "metadata": {},
   "outputs": [],
   "source": []
  }
 ],
 "metadata": {
  "kernelspec": {
   "display_name": "gs2mesh",
   "language": "python",
   "name": "gs2mesh"
  },
  "language_info": {
   "codemirror_mode": {
    "name": "ipython",
    "version": 3
   },
   "file_extension": ".py",
   "mimetype": "text/x-python",
   "name": "python",
   "nbconvert_exporter": "python",
   "pygments_lexer": "ipython3",
   "version": "3.8.18"
  }
 },
 "nbformat": 4,
 "nbformat_minor": 5
}
